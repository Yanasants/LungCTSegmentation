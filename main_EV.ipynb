{
 "cells": [
  {
   "cell_type": "code",
   "execution_count": 40,
   "metadata": {},
   "outputs": [],
   "source": [
    "import glob \n",
    "import numpy as np\n",
    "from functions import dice_coef_EV, calcula_metricas\n",
    "from utils import load_images_array\n",
    "from skimage.io import imread, imshow\n",
    "\n",
    "import matplotlib.pyplot as plt\n",
    "import matplotlib.image as img "
   ]
  },
  {
   "cell_type": "code",
   "execution_count": 41,
   "metadata": {},
   "outputs": [],
   "source": [
    "def gabarito_2(pred, gt, value_mask=255):\n",
    "    a = sum(pred==value_mask).sum()\n",
    "    print(f'a: {a}')\n",
    "    b = sum(gt==value_mask).sum()\n",
    "    print(f'b: {b}')\n",
    "    inter=0\n",
    "    for i in range(pred.shape[0]):\n",
    "        for j in range(pred.shape[1]):\n",
    "            if pred[i,j]==gt[i,j] and pred[i,j]==value_mask:\n",
    "                inter +=1\n",
    "    print(f'inter: {inter}')\n",
    "    dice = 2*inter/(a+b)\n",
    "    return dice"
   ]
  },
  {
   "attachments": {},
   "cell_type": "markdown",
   "metadata": {},
   "source": [
    "### Imagens-teste"
   ]
  },
  {
   "cell_type": "code",
   "execution_count": 42,
   "metadata": {},
   "outputs": [],
   "source": [
    "TEMPO = []\n",
    "ORIGINAL_SIZE = 5\n",
    "NEW_SIZE = 4"
   ]
  },
  {
   "cell_type": "code",
   "execution_count": 43,
   "metadata": {},
   "outputs": [],
   "source": [
    "# Choose train folder TM40 ou TM46\n",
    "_folder = './imgs_testes_metricas/imgs_nv' #teste_' + str(i)\n",
    "# _folder = './dados_girino/TM46_40prod'\n",
    "\n",
    "GT_imgs = sorted(glob.glob(_folder + '/gt/*')) \n",
    "pred_imgs = sorted(glob.glob(_folder + '/pred/*'))\n",
    "\n",
    "gt = load_images_array(GT_imgs, new_size = NEW_SIZE)\n",
    "pred = load_images_array(pred_imgs, new_size = NEW_SIZE)"
   ]
  },
  {
   "cell_type": "code",
   "execution_count": 44,
   "metadata": {},
   "outputs": [
    {
     "name": "stdout",
     "output_type": "stream",
     "text": [
      "Coeficiente Dice (Eduardo e Vitor): 0.9622\n"
     ]
    }
   ],
   "source": [
    "# VERSÃO EDUARDO E VITOR\n",
    "# não funciona com imread\n",
    "dice = dice_coef_EV(gt, pred)\n",
    "dice = str(dice).split(',')[0].split('(')[1]\n",
    "print(f'Coeficiente Dice (Eduardo e Vitor): {dice:.6}')"
   ]
  },
  {
   "cell_type": "code",
   "execution_count": 45,
   "metadata": {},
   "outputs": [
    {
     "name": "stdout",
     "output_type": "stream",
     "text": [
      "Dice list: [0.9600000000000001, 0.962962962962963]\n",
      "Coeficiente Dice (Versão do Laboratório): 0.9615\n"
     ]
    }
   ],
   "source": [
    "# GABARITO\n",
    "dice_list = []\n",
    "dice_list = calcula_metricas(gt, pred)  \n",
    "\n",
    "#estatística\n",
    "print(f'Dice list: {dice_list}')\n",
    "mean = round(np.mean(dice_list), 4)\n",
    "print(f'Coeficiente Dice (Versão do Laboratório): {mean}')"
   ]
  },
  {
   "attachments": {},
   "cell_type": "markdown",
   "metadata": {},
   "source": [
    "### Imagem girino"
   ]
  },
  {
   "cell_type": "code",
   "execution_count": 46,
   "metadata": {},
   "outputs": [],
   "source": [
    "TEMPO = []\n",
    "ORIGINAL_SIZE = 512\n",
    "NEW_SIZE = 512"
   ]
  },
  {
   "cell_type": "code",
   "execution_count": 47,
   "metadata": {},
   "outputs": [],
   "source": [
    "# Choose train folder TM40 ou TM46\n",
    "_folder = './imgs_testes_metricas/am_imgs_3' #teste_' + str(i)\n",
    "# _folder = './dados_girino/TM46_40prod'\n",
    "\n",
    "GT_imgs = sorted(glob.glob(_folder + '/conjunto_a/*')) \n",
    "pred_imgs = sorted(glob.glob(_folder + '/conjunto_b/*'))\n",
    "\n",
    "gt = load_images_array(GT_imgs, new_size = NEW_SIZE)\n",
    "pred = load_images_array(pred_imgs, new_size = NEW_SIZE)"
   ]
  },
  {
   "cell_type": "code",
   "execution_count": 48,
   "metadata": {},
   "outputs": [
    {
     "name": "stdout",
     "output_type": "stream",
     "text": [
      "Coeficiente Dice (Eduardo e Vitor): 0.7348\n"
     ]
    }
   ],
   "source": [
    "# VERSÃO EDUARDO E VITOR\n",
    "# não funciona com imread\n",
    "dice = dice_coef_EV(gt, pred)\n",
    "dice = str(dice).split(',')[0].split('(')[1]\n",
    "print(f'Coeficiente Dice (Eduardo e Vitor): {dice:.6}')"
   ]
  },
  {
   "cell_type": "code",
   "execution_count": 49,
   "metadata": {},
   "outputs": [
    {
     "name": "stdout",
     "output_type": "stream",
     "text": [
      "Dice list: [0.7348610866487929]\n",
      "Coeficiente Dice (Versão do Laboratório): 0.7349\n"
     ]
    }
   ],
   "source": [
    "# GABARITO\n",
    "dice_list = []\n",
    "dice_list = calcula_metricas(gt, pred)  \n",
    "\n",
    "#estatística\n",
    "print(f'Dice list: {dice_list}')\n",
    "mean = round(np.mean(dice_list), 4)\n",
    "print(f'Coeficiente Dice (Versão do Laboratório): {mean}')"
   ]
  },
  {
   "cell_type": "code",
   "execution_count": null,
   "metadata": {},
   "outputs": [],
   "source": []
  }
 ],
 "metadata": {
  "kernelspec": {
   "display_name": "ys_segmentation",
   "language": "python",
   "name": "python3"
  },
  "language_info": {
   "codemirror_mode": {
    "name": "ipython",
    "version": 3
   },
   "file_extension": ".py",
   "mimetype": "text/x-python",
   "name": "python",
   "nbconvert_exporter": "python",
   "pygments_lexer": "ipython3",
   "version": "3.9.16"
  },
  "orig_nbformat": 4
 },
 "nbformat": 4,
 "nbformat_minor": 2
}
