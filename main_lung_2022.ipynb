{
 "cells": [
  {
   "cell_type": "code",
   "execution_count": 12,
   "metadata": {},
   "outputs": [],
   "source": [
    "import glob \n",
    "import numpy as np\n",
    "from functions import dice_coef_lung_sem_epsilon, dice_coef_lung, calcula_metricas\n",
    "from utils import load_images_array\n",
    "from skimage.io import imread, imshow\n",
    "\n",
    "import matplotlib.pyplot as plt\n",
    "import matplotlib.image as img "
   ]
  },
  {
   "cell_type": "code",
   "execution_count": 13,
   "metadata": {},
   "outputs": [],
   "source": [
    "def gabarito_2(pred, gt, value_mask=255):\n",
    "    a = sum(pred==value_mask).sum()\n",
    "    print(f'a: {a}')\n",
    "    b = sum(gt==value_mask).sum()\n",
    "    print(f'b: {b}')\n",
    "    inter=0\n",
    "    for i in range(pred.shape[0]):\n",
    "        for j in range(pred.shape[1]):\n",
    "            if pred[i,j]==gt[i,j] and pred[i,j]==value_mask:\n",
    "                inter +=1\n",
    "    print(f'inter: {inter}')\n",
    "    dice = 2*inter/(a+b)\n",
    "    return dice"
   ]
  },
  {
   "cell_type": "code",
   "execution_count": 14,
   "metadata": {},
   "outputs": [],
   "source": [
    "import os\n",
    "import numpy as np # linear algebra\n",
    "import pandas as pd # data processing, CSV file I/O (e.g. pd.read_csv)\n",
    "import cv2\n",
    "import matplotlib.pyplot as plt\n",
    "from sklearn.model_selection import train_test_split\n",
    "\n",
    "from keras import *\n",
    "from keras.models import Model\n",
    "from keras.layers import *\n",
    "from tensorflow.keras.optimizers import Adam #não roda sem o tensorflow.keras\n",
    "from keras.regularizers import l2\n",
    "from keras.preprocessing.image import ImageDataGenerator\n",
    "import keras.backend as K\n",
    "from keras.callbacks import LearningRateScheduler, ModelCheckpoint\n"
   ]
  },
  {
   "attachments": {},
   "cell_type": "markdown",
   "metadata": {},
   "source": [
    "### Método de importação do Lung"
   ]
  },
  {
   "cell_type": "code",
   "execution_count": 15,
   "metadata": {},
   "outputs": [],
   "source": [
    "#Dados de treino e validação\n",
    "IMAGE_LIB = './imgs_testes_metricas/teste_lung_2022/gt/'\n",
    "MASK_LIB = './imgs_testes_metricas/teste_lung_2022/pred/'\n",
    "\n",
    "IMG_HEIGHT, IMG_WIDTH = 4, 4 \n",
    "\n",
    "all_images = [x for x in sorted(os.listdir(IMAGE_LIB)) if x[-4:] == '.png']\n",
    "\n",
    "x_data = np.empty((len(all_images), IMG_HEIGHT, IMG_WIDTH), dtype='float32')\n",
    "for i, name in enumerate(all_images):\n",
    "    im = cv2.imread(IMAGE_LIB + name, cv2.IMREAD_UNCHANGED).astype(\"int16\").astype('float32') #IMREAD_UNCHANGED: manutenção do canal alfa\n",
    "    im = cv2.resize(im, dsize=(IMG_WIDTH, IMG_HEIGHT), interpolation=cv2.INTER_LANCZOS4) #Interpolação de Lanczos\n",
    "    im = (im - np.min(im)) / (np.max(im) - np.min(im)) #Transformando a escala dos pixels para valores entre 0 e 1\n",
    "    x_data[i] = im\n",
    "\n",
    "\n",
    "y_data = np.empty((len(all_images), IMG_HEIGHT, IMG_WIDTH), dtype='float32')\n",
    "for i, name in enumerate(all_images):\n",
    "    im = cv2.imread(MASK_LIB + name, cv2.IMREAD_UNCHANGED).astype('float32')/255.\n",
    "    im = cv2.resize(im, dsize=(IMG_WIDTH, IMG_HEIGHT), interpolation=cv2.INTER_NEAREST) #Interpolação por nearest-neighbor\n",
    "    y_data[i] = im"
   ]
  },
  {
   "attachments": {},
   "cell_type": "markdown",
   "metadata": {},
   "source": [
    "### Imagens-Teste"
   ]
  },
  {
   "cell_type": "code",
   "execution_count": 16,
   "metadata": {},
   "outputs": [],
   "source": [
    "TEMPO = []\n",
    "ORIGINAL_SIZE = 5\n",
    "NEW_SIZE = 4"
   ]
  },
  {
   "cell_type": "code",
   "execution_count": 17,
   "metadata": {},
   "outputs": [
    {
     "name": "stdout",
     "output_type": "stream",
     "text": [
      "Coeficiente Dice (Versão usada com as tomografias de pulmão): 0.9346041\n"
     ]
    }
   ],
   "source": [
    "# VERSÃO SEGMENTAÇÃO PULMÃO\n",
    "# não deu certo com o imread\n",
    "dice = dice_coef_lung(x_data, y_data)\n",
    "dice = str(dice).split(',')[0].split('(')[1]\n",
    "print(f'Coeficiente Dice (Versão usada com as tomografias de pulmão): {dice}')"
   ]
  },
  {
   "cell_type": "code",
   "execution_count": 18,
   "metadata": {},
   "outputs": [
    {
     "name": "stdout",
     "output_type": "stream",
     "text": [
      "Coeficiente Dice (Versão usada com as tomografias de pulmão): 0.9346041\n"
     ]
    }
   ],
   "source": [
    "# VERSÃO SEGMENTAÇÃO PULMÃO\n",
    "# não deu certo com o imread\n",
    "dice = dice_coef_lung_sem_epsilon(x_data, y_data)\n",
    "dice = str(dice).split(',')[0].split('(')[1]\n",
    "print(f'Coeficiente Dice (Versão usada com as tomografias de pulmão): {dice}')"
   ]
  },
  {
   "attachments": {},
   "cell_type": "markdown",
   "metadata": {},
   "source": [
    "#### Gabarito"
   ]
  },
  {
   "cell_type": "code",
   "execution_count": 19,
   "metadata": {},
   "outputs": [],
   "source": [
    "TEMPO = []\n",
    "ORIGINAL_SIZE = 5\n",
    "NEW_SIZE = 4\n",
    "\n",
    "# Choose train folder TM40 ou TM46\n",
    "_folder = './imgs_testes_metricas/imgs_nv' \n",
    "\n",
    "GT_imgs = sorted(glob.glob(_folder + '/gt/*')) \n",
    "pred_imgs = sorted(glob.glob(_folder + '/pred/*'))\n",
    "\n",
    "gt = load_images_array(GT_imgs, new_size = NEW_SIZE)\n",
    "pred = load_images_array(pred_imgs, new_size = NEW_SIZE)"
   ]
  },
  {
   "cell_type": "code",
   "execution_count": 20,
   "metadata": {},
   "outputs": [
    {
     "name": "stdout",
     "output_type": "stream",
     "text": [
      "Dice list: [0.9600000000000001, 0.962962962962963]\n",
      "Coeficiente Dice (Versão do Laboratório): 0.9615\n"
     ]
    }
   ],
   "source": [
    "# GABARITO\n",
    "dice_list = []\n",
    "dice_list = calcula_metricas(gt, pred)  \n",
    "\n",
    "#estatística\n",
    "print(f'Dice list: {dice_list}')\n",
    "mean = round(np.mean(dice_list), 4)\n",
    "print(f'Coeficiente Dice (Versão do Laboratório): {mean}')"
   ]
  },
  {
   "attachments": {},
   "cell_type": "markdown",
   "metadata": {},
   "source": [
    "### Imagem Pulmão"
   ]
  },
  {
   "cell_type": "code",
   "execution_count": 21,
   "metadata": {},
   "outputs": [],
   "source": [
    "#Dados de treino e validação\n",
    "IMAGE_LIB = './imgs_testes_metricas/teste_lung_2022/conjunto_a/'\n",
    "MASK_LIB = './imgs_testes_metricas/teste_lung_2022/conjunto_b/'\n",
    "\n",
    "IMG_HEIGHT, IMG_WIDTH = 512, 512\n",
    "\n",
    "all_images = [x for x in sorted(os.listdir(IMAGE_LIB)) if x[-4:] == '.tif']\n",
    "\n",
    "x_data = np.empty((len(all_images), IMG_HEIGHT, IMG_WIDTH), dtype='float32')\n",
    "for i, name in enumerate(all_images):\n",
    "    im = cv2.imread(IMAGE_LIB + name, cv2.IMREAD_UNCHANGED).astype(\"int16\").astype('float32') #IMREAD_UNCHANGED: manutenção do canal alfa\n",
    "    im = cv2.resize(im, dsize=(IMG_WIDTH, IMG_HEIGHT), interpolation=cv2.INTER_LANCZOS4) #Interpolação de Lanczos\n",
    "    im = (im - np.min(im)) / (np.max(im) - np.min(im)) #Transformando a escala dos pixels para valores entre 0 e 1\n",
    "    x_data[i] = im\n",
    "\n",
    "\n",
    "y_data = np.empty((len(all_images), IMG_HEIGHT, IMG_WIDTH), dtype='float32')\n",
    "for i, name in enumerate(all_images):\n",
    "    im = cv2.imread(MASK_LIB + name, cv2.IMREAD_UNCHANGED).astype('float32')/255.\n",
    "    im = cv2.resize(im, dsize=(IMG_WIDTH, IMG_HEIGHT), interpolation=cv2.INTER_NEAREST) #Interpolação por nearest-neighbor\n",
    "    y_data[i] = im"
   ]
  },
  {
   "cell_type": "code",
   "execution_count": 22,
   "metadata": {},
   "outputs": [
    {
     "name": "stdout",
     "output_type": "stream",
     "text": [
      "Coeficiente Dice (Versão usada com as tomografias de pulmão): 0.7348611\n"
     ]
    }
   ],
   "source": [
    "# VERSÃO SEGMENTAÇÃO PULMÃO\n",
    "# não deu certo com o imread\n",
    "dice = dice_coef_lung(x_data, y_data)\n",
    "dice = str(dice).split(',')[0].split('(')[1]\n",
    "print(f'Coeficiente Dice (Versão usada com as tomografias de pulmão): {dice}')"
   ]
  },
  {
   "cell_type": "code",
   "execution_count": 23,
   "metadata": {},
   "outputs": [
    {
     "name": "stdout",
     "output_type": "stream",
     "text": [
      "Coeficiente Dice (Versão usada com as tomografias de pulmão): 0.7348611\n"
     ]
    }
   ],
   "source": [
    "# VERSÃO SEGMENTAÇÃO PULMÃO\n",
    "# não deu certo com o imread\n",
    "dice = dice_coef_lung_sem_epsilon(x_data, y_data)\n",
    "dice = str(dice).split(',')[0].split('(')[1]\n",
    "print(f'Coeficiente Dice (Versão usada com as tomografias de pulmão): {dice}')"
   ]
  }
 ],
 "metadata": {
  "kernelspec": {
   "display_name": "ys_segmentation",
   "language": "python",
   "name": "python3"
  },
  "language_info": {
   "codemirror_mode": {
    "name": "ipython",
    "version": 3
   },
   "file_extension": ".py",
   "mimetype": "text/x-python",
   "name": "python",
   "nbconvert_exporter": "python",
   "pygments_lexer": "ipython3",
   "version": "3.9.16"
  },
  "orig_nbformat": 4
 },
 "nbformat": 4,
 "nbformat_minor": 2
}
