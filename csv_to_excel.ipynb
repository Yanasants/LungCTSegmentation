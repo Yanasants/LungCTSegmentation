{
 "cells": [
  {
   "cell_type": "code",
   "execution_count": 2,
   "metadata": {},
   "outputs": [],
   "source": [
    "import pandas as pd"
   ]
  },
  {
   "cell_type": "code",
   "execution_count": 3,
   "metadata": {},
   "outputs": [],
   "source": [
    "epochs = 40\n",
    "\n",
    "df = pd.read_csv(f'all_results_{epochs}_epochs.csv')\n",
    "df.drop('Unnamed: 0', axis=1, inplace=True)\n",
    "\n",
    "exec = 'Mean'\n",
    "seed = ''\n",
    "mean = df['mean'].mean()\n",
    "median = df['mean'].median()\n",
    "std = df['mean'].std()\n",
    "max = df['mean'].max()\n",
    "min = df['mean'].min()\n",
    "\n",
    "df.iloc[9,:] = [exec,seed,mean,median,std,max,min]\n",
    "\n",
    "df.to_excel(f'all_results_{epochs}_epochs.xlsx')"
   ]
  },
  {
   "cell_type": "code",
   "execution_count": 4,
   "metadata": {},
   "outputs": [],
   "source": [
    "all_epochs_results = []\n",
    "for epochs in [10,20,30,40,50]:\n",
    "    df = pd.read_csv(f'all_results_{epochs}_epochs.csv')\n",
    "    df['epochs'] = [epochs for i in range(10)]\n",
    "    all_epochs_results.append(df)\n",
    "\n",
    "df = pd.concat(all_epochs_results)                                                                  \n",
    "df.drop('Unnamed: 0', axis=1, inplace=True)"
   ]
  },
  {
   "cell_type": "code",
   "execution_count": 6,
   "metadata": {},
   "outputs": [
    {
     "data": {
      "text/plain": [
       "Index(['exec', 'seed', 'mean', 'median', 'std', 'max', 'min', 'epochs'], dtype='object')"
      ]
     },
     "execution_count": 6,
     "metadata": {},
     "output_type": "execute_result"
    }
   ],
   "source": [
    "df.columns"
   ]
  },
  {
   "cell_type": "code",
   "execution_count": 11,
   "metadata": {},
   "outputs": [],
   "source": [
    "df.to_csv('csv_all_epochs.csv')"
   ]
  },
  {
   "cell_type": "code",
   "execution_count": 8,
   "metadata": {},
   "outputs": [],
   "source": [
    "df_per_epochs=df.groupby('epochs')[['mean', 'median', 'std',  'max', 'min']].mean()"
   ]
  },
  {
   "cell_type": "code",
   "execution_count": 10,
   "metadata": {},
   "outputs": [],
   "source": [
    "df_per_epochs.to_excel('all_results.xlsx')"
   ]
  }
 ],
 "metadata": {
  "interpreter": {
   "hash": "dacfd15c908db845ed0e229c25fef3257f7b39135e3d6aaea7d06a4740813d95"
  },
  "kernelspec": {
   "display_name": "Python 3.9.7 ('base')",
   "language": "python",
   "name": "python3"
  },
  "language_info": {
   "codemirror_mode": {
    "name": "ipython",
    "version": 3
   },
   "file_extension": ".py",
   "mimetype": "text/x-python",
   "name": "python",
   "nbconvert_exporter": "python",
   "pygments_lexer": "ipython3",
   "version": "3.9.15"
  },
  "orig_nbformat": 4
 },
 "nbformat": 4,
 "nbformat_minor": 2
}
