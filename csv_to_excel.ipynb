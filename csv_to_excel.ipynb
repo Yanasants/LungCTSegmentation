{
 "cells": [
  {
   "cell_type": "code",
   "execution_count": 17,
   "metadata": {},
   "outputs": [],
   "source": [
    "import pandas as pd"
   ]
  },
  {
   "cell_type": "code",
   "execution_count": 18,
   "metadata": {},
   "outputs": [],
   "source": [
    "epochs = 100\n",
    "\n",
    "df = pd.read_csv(f'all_results_{epochs}_epochs.csv')\n",
    "df.drop('Unnamed: 0', axis=1, inplace=True)\n",
    "\n",
    "exec = 'Mean'\n",
    "seed = ''\n",
    "mean = df['mean'].mean()\n",
    "median = df['mean'].median()\n",
    "std = df['mean'].std()\n",
    "max = df['mean'].max()\n",
    "min = df['mean'].min()\n",
    "\n",
    "df.iloc[9,:] = [exec,seed,mean,median,std,max,min]\n",
    "\n",
    "df.to_excel(f'all_results_{epochs}_epochs.xlsx')"
   ]
  },
  {
   "cell_type": "code",
   "execution_count": 48,
   "metadata": {},
   "outputs": [],
   "source": [
    "all_epochs_results = []\n",
    "for epochs in [10,20,30,40,50,100]:\n",
    "    df = pd.read_csv(f'all_results_{epochs}_epochs.csv')\n",
    "    df['epochs'] = [epochs for i in range(10)]\n",
    "    all_epochs_results.append(df)\n",
    "\n",
    "df = pd.concat(all_epochs_results)                                                                  \n",
    "df.drop('Unnamed: 0', axis=1, inplace=True)"
   ]
  },
  {
   "cell_type": "code",
   "execution_count": 49,
   "metadata": {},
   "outputs": [],
   "source": [
    "df.to_csv('csv_all_epochs.csv')"
   ]
  },
  {
   "cell_type": "code",
   "execution_count": 51,
   "metadata": {},
   "outputs": [],
   "source": [
    "df_per_epochs=df.groupby('epochs')[['mean', 'median', 'std',  'max', 'min']].mean()"
   ]
  },
  {
   "cell_type": "code",
   "execution_count": 52,
   "metadata": {},
   "outputs": [],
   "source": [
    "df_per_epochs.to_excel('all_results.xlsx')"
   ]
  },
  {
   "cell_type": "code",
   "execution_count": 53,
   "metadata": {},
   "outputs": [
    {
     "data": {
      "text/html": [
       "<div>\n",
       "<style scoped>\n",
       "    .dataframe tbody tr th:only-of-type {\n",
       "        vertical-align: middle;\n",
       "    }\n",
       "\n",
       "    .dataframe tbody tr th {\n",
       "        vertical-align: top;\n",
       "    }\n",
       "\n",
       "    .dataframe thead th {\n",
       "        text-align: right;\n",
       "    }\n",
       "</style>\n",
       "<table border=\"1\" class=\"dataframe\">\n",
       "  <thead>\n",
       "    <tr style=\"text-align: right;\">\n",
       "      <th></th>\n",
       "      <th>mean</th>\n",
       "      <th>median</th>\n",
       "      <th>std</th>\n",
       "      <th>max</th>\n",
       "      <th>min</th>\n",
       "    </tr>\n",
       "    <tr>\n",
       "      <th>epochs</th>\n",
       "      <th></th>\n",
       "      <th></th>\n",
       "      <th></th>\n",
       "      <th></th>\n",
       "      <th></th>\n",
       "    </tr>\n",
       "  </thead>\n",
       "  <tbody>\n",
       "    <tr>\n",
       "      <th>10</th>\n",
       "      <td>0.759146</td>\n",
       "      <td>0.776789</td>\n",
       "      <td>0.071574</td>\n",
       "      <td>0.836523</td>\n",
       "      <td>0.475948</td>\n",
       "    </tr>\n",
       "    <tr>\n",
       "      <th>20</th>\n",
       "      <td>0.793254</td>\n",
       "      <td>0.810420</td>\n",
       "      <td>0.075595</td>\n",
       "      <td>0.881932</td>\n",
       "      <td>0.498746</td>\n",
       "    </tr>\n",
       "    <tr>\n",
       "      <th>30</th>\n",
       "      <td>0.787393</td>\n",
       "      <td>0.804002</td>\n",
       "      <td>0.077601</td>\n",
       "      <td>0.876401</td>\n",
       "      <td>0.482332</td>\n",
       "    </tr>\n",
       "    <tr>\n",
       "      <th>40</th>\n",
       "      <td>0.794586</td>\n",
       "      <td>0.811123</td>\n",
       "      <td>0.072487</td>\n",
       "      <td>0.877555</td>\n",
       "      <td>0.509698</td>\n",
       "    </tr>\n",
       "    <tr>\n",
       "      <th>50</th>\n",
       "      <td>0.787259</td>\n",
       "      <td>0.806696</td>\n",
       "      <td>0.077056</td>\n",
       "      <td>0.872983</td>\n",
       "      <td>0.491547</td>\n",
       "    </tr>\n",
       "    <tr>\n",
       "      <th>100</th>\n",
       "      <td>0.786307</td>\n",
       "      <td>0.798557</td>\n",
       "      <td>0.070525</td>\n",
       "      <td>0.870957</td>\n",
       "      <td>0.490751</td>\n",
       "    </tr>\n",
       "  </tbody>\n",
       "</table>\n",
       "</div>"
      ],
      "text/plain": [
       "            mean    median       std       max       min\n",
       "epochs                                                  \n",
       "10      0.759146  0.776789  0.071574  0.836523  0.475948\n",
       "20      0.793254  0.810420  0.075595  0.881932  0.498746\n",
       "30      0.787393  0.804002  0.077601  0.876401  0.482332\n",
       "40      0.794586  0.811123  0.072487  0.877555  0.509698\n",
       "50      0.787259  0.806696  0.077056  0.872983  0.491547\n",
       "100     0.786307  0.798557  0.070525  0.870957  0.490751"
      ]
     },
     "execution_count": 53,
     "metadata": {},
     "output_type": "execute_result"
    }
   ],
   "source": [
    "df_per_epochs"
   ]
  }
 ],
 "metadata": {
  "interpreter": {
   "hash": "dacfd15c908db845ed0e229c25fef3257f7b39135e3d6aaea7d06a4740813d95"
  },
  "kernelspec": {
   "display_name": "Python 3.9.7 ('base')",
   "language": "python",
   "name": "python3"
  },
  "language_info": {
   "codemirror_mode": {
    "name": "ipython",
    "version": 3
   },
   "file_extension": ".py",
   "mimetype": "text/x-python",
   "name": "python",
   "nbconvert_exporter": "python",
   "pygments_lexer": "ipython3",
   "version": "3.9.15"
  },
  "orig_nbformat": 4
 },
 "nbformat": 4,
 "nbformat_minor": 2
}
